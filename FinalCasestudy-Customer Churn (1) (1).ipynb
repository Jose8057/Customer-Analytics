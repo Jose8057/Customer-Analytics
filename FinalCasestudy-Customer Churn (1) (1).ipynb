{
 "cells": [
  {
   "cell_type": "markdown",
   "id": "8f07b7e8",
   "metadata": {},
   "source": [
    "# Customer Churn Analytics\n",
    "by Xiang Ou"
   ]
  },
  {
   "cell_type": "markdown",
   "id": "4cf29768",
   "metadata": {},
   "source": [
    "## Content:\n",
    "### [Business Understanding](#B)\n",
    "### [Data Understanding](#D)\n",
    "### [Data Preparation](#P)\n",
    "### [Modeling](#M)\n",
    "### [Model Evaluation](#E)\n",
    "### [Model Improvement](#I)\n",
    "### [Prediction](#p)\n",
    "### [Summary](#S)\n",
    "### [Recommendations](#R)"
   ]
  },
  {
   "cell_type": "markdown",
   "id": "2cbab1f5",
   "metadata": {},
   "source": [
    "# <span id=\"B\">Buniess Understanding:</span>"
   ]
  },
  {
   "cell_type": "markdown",
   "id": "a9b0f53a",
   "metadata": {},
   "source": [
    "The objective of this project is to find the best model to predict customer churn based on the historical data from a Telcompany, and this model will be able to map the new data ingest from the business.\n",
    "\n",
    "What is Customer Churn? Customer Churn is also known as customer attrition, is when a customer stops buying from a brand or discontinues the subscription. Customer churn is measured by a customer churn rate, a business metric that calculates the percentage of customers who stop doing business with a company over a given period. Understanding customer churn is essential to evaluate the health of the business.\n",
    "\n",
    "Customer Churn Rate = (Customers lost during the period/Total customers at the start of the period)*100\n",
    "\n",
    "Through the dataset analytics, I will attempt to find the best model to accurately predict the Customer Churn and solve some of the key business challenges regarding customer attrition, such as \n",
    "\n",
    "(1) Detect customers who are highly likely to leave the organization? \n",
    "\n",
    "(2) what are key indicators of a customer churn? \n",
    "\n",
    "(3) what strategies can be implemented based on the results to prevent customer churn?\n"
   ]
  },
  {
   "cell_type": "markdown",
   "id": "9a230d85",
   "metadata": {},
   "source": [
    "# <span id=\"D\">Data Understanding:</span>"
   ]
  },
  {
   "cell_type": "code",
   "execution_count": 195,
   "id": "3db5eb62",
   "metadata": {},
   "outputs": [],
   "source": [
    "#import libary \n",
    "import pandas as pd\n",
    "import numpy as np\n",
    "import pandas as pd\n",
    "from sklearn.metrics import confusion_matrix, accuracy_score \n",
    "from sklearn.metrics import f1_score, precision_score, recall_score, fbeta_score\n",
    "from statsmodels.stats.outliers_influence import variance_inflation_factor\n",
    "from sklearn.model_selection import cross_val_score\n",
    "from sklearn.model_selection import GridSearchCV\n",
    "from sklearn.model_selection import ShuffleSplit\n",
    "from sklearn.model_selection import KFold\n",
    "from sklearn import feature_selection\n",
    "from sklearn import model_selection\n",
    "from sklearn import metrics\n",
    "from sklearn.metrics import classification_report, precision_recall_curve\n",
    "from sklearn.metrics import auc, roc_auc_score, roc_curve\n",
    "from sklearn.metrics import make_scorer, recall_score, log_loss\n",
    "from sklearn.metrics import average_precision_score\n",
    "import matplotlib.pyplot as plt\n",
    "%matplotlib inline\n",
    "import seaborn as sns\n",
    "import pandas as pd\n",
    "import numpy as np\n",
    "import matplotlib.pyplot as plt\n",
    "from statsmodels.graphics.mosaicplot import mosaic\n",
    "from itertools import product\n",
    "from sklearn.preprocessing import LabelEncoder, OneHotEncoder\n",
    "from sklearn.metrics import confusion_matrix, accuracy_score \n",
    "from sklearn. ensemble import RandomForestClassifier\n",
    "from sklearn.linear_model import LogisticRegression\n",
    "from sklearn.neighbors import KNeighborsClassifier\n",
    "from sklearn.naive_bayes import GaussianNB\n",
    "from sklearn.svm import SVC\n",
    "from sklearn.feature_selection import chi2\n",
    "from sklearn.feature_selection import SelectKBest\n"
   ]
  },
  {
   "cell_type": "markdown",
   "id": "07f058a1",
   "metadata": {},
   "source": [
    "### EDA"
   ]
  },
  {
   "cell_type": "code",
   "execution_count": 196,
   "id": "22e7fa79",
   "metadata": {
    "scrolled": true
   },
   "outputs": [
    {
     "data": {
      "text/html": [
       "<div>\n",
       "<style scoped>\n",
       "    .dataframe tbody tr th:only-of-type {\n",
       "        vertical-align: middle;\n",
       "    }\n",
       "\n",
       "    .dataframe tbody tr th {\n",
       "        vertical-align: top;\n",
       "    }\n",
       "\n",
       "    .dataframe thead th {\n",
       "        text-align: right;\n",
       "    }\n",
       "</style>\n",
       "<table border=\"1\" class=\"dataframe\">\n",
       "  <thead>\n",
       "    <tr style=\"text-align: right;\">\n",
       "      <th></th>\n",
       "      <th>customerID</th>\n",
       "      <th>gender</th>\n",
       "      <th>SeniorCitizen</th>\n",
       "      <th>Partner</th>\n",
       "      <th>Dependents</th>\n",
       "      <th>tenure</th>\n",
       "      <th>PhoneService</th>\n",
       "      <th>MultipleLines</th>\n",
       "      <th>InternetService</th>\n",
       "      <th>OnlineSecurity</th>\n",
       "      <th>...</th>\n",
       "      <th>DeviceProtection</th>\n",
       "      <th>TechSupport</th>\n",
       "      <th>StreamingTV</th>\n",
       "      <th>StreamingMovies</th>\n",
       "      <th>Contract</th>\n",
       "      <th>PaperlessBilling</th>\n",
       "      <th>PaymentMethod</th>\n",
       "      <th>MonthlyCharges</th>\n",
       "      <th>TotalCharges</th>\n",
       "      <th>Churn</th>\n",
       "    </tr>\n",
       "  </thead>\n",
       "  <tbody>\n",
       "    <tr>\n",
       "      <th>0</th>\n",
       "      <td>7590-VHVEG</td>\n",
       "      <td>Female</td>\n",
       "      <td>0</td>\n",
       "      <td>Yes</td>\n",
       "      <td>No</td>\n",
       "      <td>1</td>\n",
       "      <td>No</td>\n",
       "      <td>No phone service</td>\n",
       "      <td>DSL</td>\n",
       "      <td>No</td>\n",
       "      <td>...</td>\n",
       "      <td>No</td>\n",
       "      <td>No</td>\n",
       "      <td>No</td>\n",
       "      <td>No</td>\n",
       "      <td>Month-to-month</td>\n",
       "      <td>Yes</td>\n",
       "      <td>Electronic check</td>\n",
       "      <td>29.85</td>\n",
       "      <td>29.85</td>\n",
       "      <td>No</td>\n",
       "    </tr>\n",
       "    <tr>\n",
       "      <th>1</th>\n",
       "      <td>5575-GNVDE</td>\n",
       "      <td>Male</td>\n",
       "      <td>0</td>\n",
       "      <td>No</td>\n",
       "      <td>No</td>\n",
       "      <td>34</td>\n",
       "      <td>Yes</td>\n",
       "      <td>No</td>\n",
       "      <td>DSL</td>\n",
       "      <td>Yes</td>\n",
       "      <td>...</td>\n",
       "      <td>Yes</td>\n",
       "      <td>No</td>\n",
       "      <td>No</td>\n",
       "      <td>No</td>\n",
       "      <td>One year</td>\n",
       "      <td>No</td>\n",
       "      <td>Mailed check</td>\n",
       "      <td>56.95</td>\n",
       "      <td>1889.5</td>\n",
       "      <td>No</td>\n",
       "    </tr>\n",
       "    <tr>\n",
       "      <th>2</th>\n",
       "      <td>3668-QPYBK</td>\n",
       "      <td>Male</td>\n",
       "      <td>0</td>\n",
       "      <td>No</td>\n",
       "      <td>No</td>\n",
       "      <td>2</td>\n",
       "      <td>Yes</td>\n",
       "      <td>No</td>\n",
       "      <td>DSL</td>\n",
       "      <td>Yes</td>\n",
       "      <td>...</td>\n",
       "      <td>No</td>\n",
       "      <td>No</td>\n",
       "      <td>No</td>\n",
       "      <td>No</td>\n",
       "      <td>Month-to-month</td>\n",
       "      <td>Yes</td>\n",
       "      <td>Mailed check</td>\n",
       "      <td>53.85</td>\n",
       "      <td>108.15</td>\n",
       "      <td>Yes</td>\n",
       "    </tr>\n",
       "    <tr>\n",
       "      <th>3</th>\n",
       "      <td>7795-CFOCW</td>\n",
       "      <td>Male</td>\n",
       "      <td>0</td>\n",
       "      <td>No</td>\n",
       "      <td>No</td>\n",
       "      <td>45</td>\n",
       "      <td>No</td>\n",
       "      <td>No phone service</td>\n",
       "      <td>DSL</td>\n",
       "      <td>Yes</td>\n",
       "      <td>...</td>\n",
       "      <td>Yes</td>\n",
       "      <td>Yes</td>\n",
       "      <td>No</td>\n",
       "      <td>No</td>\n",
       "      <td>One year</td>\n",
       "      <td>No</td>\n",
       "      <td>Bank transfer (automatic)</td>\n",
       "      <td>42.30</td>\n",
       "      <td>1840.75</td>\n",
       "      <td>No</td>\n",
       "    </tr>\n",
       "    <tr>\n",
       "      <th>4</th>\n",
       "      <td>9237-HQITU</td>\n",
       "      <td>Female</td>\n",
       "      <td>0</td>\n",
       "      <td>No</td>\n",
       "      <td>No</td>\n",
       "      <td>2</td>\n",
       "      <td>Yes</td>\n",
       "      <td>No</td>\n",
       "      <td>Fiber optic</td>\n",
       "      <td>No</td>\n",
       "      <td>...</td>\n",
       "      <td>No</td>\n",
       "      <td>No</td>\n",
       "      <td>No</td>\n",
       "      <td>No</td>\n",
       "      <td>Month-to-month</td>\n",
       "      <td>Yes</td>\n",
       "      <td>Electronic check</td>\n",
       "      <td>70.70</td>\n",
       "      <td>151.65</td>\n",
       "      <td>Yes</td>\n",
       "    </tr>\n",
       "  </tbody>\n",
       "</table>\n",
       "<p>5 rows × 21 columns</p>\n",
       "</div>"
      ],
      "text/plain": [
       "   customerID  gender  SeniorCitizen Partner Dependents  tenure PhoneService  \\\n",
       "0  7590-VHVEG  Female              0     Yes         No       1           No   \n",
       "1  5575-GNVDE    Male              0      No         No      34          Yes   \n",
       "2  3668-QPYBK    Male              0      No         No       2          Yes   \n",
       "3  7795-CFOCW    Male              0      No         No      45           No   \n",
       "4  9237-HQITU  Female              0      No         No       2          Yes   \n",
       "\n",
       "      MultipleLines InternetService OnlineSecurity  ... DeviceProtection  \\\n",
       "0  No phone service             DSL             No  ...               No   \n",
       "1                No             DSL            Yes  ...              Yes   \n",
       "2                No             DSL            Yes  ...               No   \n",
       "3  No phone service             DSL            Yes  ...              Yes   \n",
       "4                No     Fiber optic             No  ...               No   \n",
       "\n",
       "  TechSupport StreamingTV StreamingMovies        Contract PaperlessBilling  \\\n",
       "0          No          No              No  Month-to-month              Yes   \n",
       "1          No          No              No        One year               No   \n",
       "2          No          No              No  Month-to-month              Yes   \n",
       "3         Yes          No              No        One year               No   \n",
       "4          No          No              No  Month-to-month              Yes   \n",
       "\n",
       "               PaymentMethod MonthlyCharges  TotalCharges Churn  \n",
       "0           Electronic check          29.85         29.85    No  \n",
       "1               Mailed check          56.95        1889.5    No  \n",
       "2               Mailed check          53.85        108.15   Yes  \n",
       "3  Bank transfer (automatic)          42.30       1840.75    No  \n",
       "4           Electronic check          70.70        151.65   Yes  \n",
       "\n",
       "[5 rows x 21 columns]"
      ]
     },
     "execution_count": 196,
     "metadata": {},
     "output_type": "execute_result"
    }
   ],
   "source": [
    "df=pd.read_csv('Customer_Churn_Dataset.csv')\n",
    "df.head()"
   ]
  },
  {
   "cell_type": "code",
   "execution_count": 197,
   "id": "a748ca92",
   "metadata": {
    "scrolled": true
   },
   "outputs": [
    {
     "data": {
      "text/plain": [
       "(7043, 21)"
      ]
     },
     "execution_count": 197,
     "metadata": {},
     "output_type": "execute_result"
    }
   ],
   "source": [
    "df.shape"
   ]
  },
  {
   "cell_type": "markdown",
   "id": "1d5052b7",
   "metadata": {},
   "source": [
    "This dataset contains 7043 rows and 21 columns."
   ]
  },
  {
   "cell_type": "code",
   "execution_count": 198,
   "id": "292d038e",
   "metadata": {
    "scrolled": false
   },
   "outputs": [
    {
     "data": {
      "text/html": [
       "<div>\n",
       "<style scoped>\n",
       "    .dataframe tbody tr th:only-of-type {\n",
       "        vertical-align: middle;\n",
       "    }\n",
       "\n",
       "    .dataframe tbody tr th {\n",
       "        vertical-align: top;\n",
       "    }\n",
       "\n",
       "    .dataframe thead th {\n",
       "        text-align: right;\n",
       "    }\n",
       "</style>\n",
       "<table border=\"1\" class=\"dataframe\">\n",
       "  <thead>\n",
       "    <tr style=\"text-align: right;\">\n",
       "      <th></th>\n",
       "      <th>SeniorCitizen</th>\n",
       "      <th>tenure</th>\n",
       "      <th>MonthlyCharges</th>\n",
       "    </tr>\n",
       "  </thead>\n",
       "  <tbody>\n",
       "    <tr>\n",
       "      <th>count</th>\n",
       "      <td>7043.000000</td>\n",
       "      <td>7043.000000</td>\n",
       "      <td>7043.000000</td>\n",
       "    </tr>\n",
       "    <tr>\n",
       "      <th>mean</th>\n",
       "      <td>0.162147</td>\n",
       "      <td>32.371149</td>\n",
       "      <td>64.761692</td>\n",
       "    </tr>\n",
       "    <tr>\n",
       "      <th>std</th>\n",
       "      <td>0.368612</td>\n",
       "      <td>24.559481</td>\n",
       "      <td>30.090047</td>\n",
       "    </tr>\n",
       "    <tr>\n",
       "      <th>min</th>\n",
       "      <td>0.000000</td>\n",
       "      <td>0.000000</td>\n",
       "      <td>18.250000</td>\n",
       "    </tr>\n",
       "    <tr>\n",
       "      <th>25%</th>\n",
       "      <td>0.000000</td>\n",
       "      <td>9.000000</td>\n",
       "      <td>35.500000</td>\n",
       "    </tr>\n",
       "    <tr>\n",
       "      <th>50%</th>\n",
       "      <td>0.000000</td>\n",
       "      <td>29.000000</td>\n",
       "      <td>70.350000</td>\n",
       "    </tr>\n",
       "    <tr>\n",
       "      <th>75%</th>\n",
       "      <td>0.000000</td>\n",
       "      <td>55.000000</td>\n",
       "      <td>89.850000</td>\n",
       "    </tr>\n",
       "    <tr>\n",
       "      <th>max</th>\n",
       "      <td>1.000000</td>\n",
       "      <td>72.000000</td>\n",
       "      <td>118.750000</td>\n",
       "    </tr>\n",
       "  </tbody>\n",
       "</table>\n",
       "</div>"
      ],
      "text/plain": [
       "       SeniorCitizen       tenure  MonthlyCharges\n",
       "count    7043.000000  7043.000000     7043.000000\n",
       "mean        0.162147    32.371149       64.761692\n",
       "std         0.368612    24.559481       30.090047\n",
       "min         0.000000     0.000000       18.250000\n",
       "25%         0.000000     9.000000       35.500000\n",
       "50%         0.000000    29.000000       70.350000\n",
       "75%         0.000000    55.000000       89.850000\n",
       "max         1.000000    72.000000      118.750000"
      ]
     },
     "execution_count": 198,
     "metadata": {},
     "output_type": "execute_result"
    }
   ],
   "source": [
    "df.describe()"
   ]
  },
  {
   "cell_type": "markdown",
   "id": "cae895b4",
   "metadata": {},
   "source": [
    "What are the features in the dataset"
   ]
  },
  {
   "cell_type": "code",
   "execution_count": 199,
   "id": "47074b93",
   "metadata": {
    "scrolled": true
   },
   "outputs": [
    {
     "data": {
      "text/plain": [
       "['customerID',\n",
       " 'gender',\n",
       " 'SeniorCitizen',\n",
       " 'Partner',\n",
       " 'Dependents',\n",
       " 'tenure',\n",
       " 'PhoneService',\n",
       " 'MultipleLines',\n",
       " 'InternetService',\n",
       " 'OnlineSecurity',\n",
       " 'OnlineBackup',\n",
       " 'DeviceProtection',\n",
       " 'TechSupport',\n",
       " 'StreamingTV',\n",
       " 'StreamingMovies',\n",
       " 'Contract',\n",
       " 'PaperlessBilling',\n",
       " 'PaymentMethod',\n",
       " 'MonthlyCharges',\n",
       " 'TotalCharges',\n",
       " 'Churn']"
      ]
     },
     "execution_count": 199,
     "metadata": {},
     "output_type": "execute_result"
    }
   ],
   "source": [
    "df.columns.to_list()"
   ]
  },
  {
   "cell_type": "code",
   "execution_count": 200,
   "id": "376c8c7b",
   "metadata": {},
   "outputs": [
    {
     "name": "stdout",
     "output_type": "stream",
     "text": [
      "gender ['Female' 'Male']\n",
      "Partner ['Yes' 'No']\n",
      "Dependents ['No' 'Yes']\n",
      "PhoneService ['No' 'Yes']\n",
      "MultipleLines ['No phone service' 'No' 'Yes']\n",
      "InternetService ['DSL' 'Fiber optic' 'No']\n",
      "OnlineSecurity ['No' 'Yes' 'No internet service']\n",
      "OnlineBackup ['Yes' 'No' 'No internet service']\n",
      "DeviceProtection ['No' 'Yes' 'No internet service']\n",
      "TechSupport ['No' 'Yes' 'No internet service']\n",
      "StreamingTV ['No' 'Yes' 'No internet service']\n",
      "StreamingMovies ['No' 'Yes' 'No internet service']\n",
      "Contract ['Month-to-month' 'One year' 'Two year']\n",
      "PaperlessBilling ['Yes' 'No']\n",
      "PaymentMethod ['Electronic check' 'Mailed check' 'Bank transfer (automatic)'\n",
      " 'Credit card (automatic)']\n",
      "TotalCharges ['29.85' '1889.5' '108.15' ... '346.45' '306.6' '6844.5']\n",
      "Churn ['No' 'Yes']\n"
     ]
    }
   ],
   "source": [
    "data_index = np.where(df.dtypes == object)\n",
    "cols=df.columns[data_index][1:]\n",
    "for i in (cols):\n",
    "    print(i,df[i].unique() )"
   ]
  },
  {
   "cell_type": "markdown",
   "id": "0c14c0ff",
   "metadata": {},
   "source": [
    "Look into the columns have 2 or more than 2 values."
   ]
  },
  {
   "cell_type": "markdown",
   "id": "22aa6c0e",
   "metadata": {},
   "source": [
    "# <span id=\"P\">Data Preparation:</span>"
   ]
  },
  {
   "cell_type": "markdown",
   "id": "1cd76649",
   "metadata": {},
   "source": [
    "### Check missing data"
   ]
  },
  {
   "cell_type": "code",
   "execution_count": 201,
   "id": "f9d64732",
   "metadata": {
    "scrolled": true
   },
   "outputs": [
    {
     "data": {
      "text/plain": [
       "customerID          False\n",
       "gender              False\n",
       "SeniorCitizen       False\n",
       "Partner             False\n",
       "Dependents          False\n",
       "tenure              False\n",
       "PhoneService        False\n",
       "MultipleLines       False\n",
       "InternetService     False\n",
       "OnlineSecurity      False\n",
       "OnlineBackup        False\n",
       "DeviceProtection    False\n",
       "TechSupport         False\n",
       "StreamingTV         False\n",
       "StreamingMovies     False\n",
       "Contract            False\n",
       "PaperlessBilling    False\n",
       "PaymentMethod       False\n",
       "MonthlyCharges      False\n",
       "TotalCharges        False\n",
       "Churn               False\n",
       "dtype: bool"
      ]
     },
     "execution_count": 201,
     "metadata": {},
     "output_type": "execute_result"
    }
   ],
   "source": [
    "df.isnull().any()"
   ]
  },
  {
   "cell_type": "markdown",
   "id": "1e316170",
   "metadata": {},
   "source": [
    " This dataset seems to be complete without any missing value."
   ]
  },
  {
   "cell_type": "markdown",
   "id": "85427a44",
   "metadata": {},
   "source": [
    "### Processing Data"
   ]
  },
  {
   "cell_type": "code",
   "execution_count": 202,
   "id": "7085a44f",
   "metadata": {
    "scrolled": false
   },
   "outputs": [
    {
     "name": "stdout",
     "output_type": "stream",
     "text": [
      "<class 'pandas.core.frame.DataFrame'>\n",
      "RangeIndex: 7043 entries, 0 to 7042\n",
      "Data columns (total 21 columns):\n",
      " #   Column            Non-Null Count  Dtype  \n",
      "---  ------            --------------  -----  \n",
      " 0   customerID        7043 non-null   object \n",
      " 1   gender            7043 non-null   object \n",
      " 2   SeniorCitizen     7043 non-null   int64  \n",
      " 3   Partner           7043 non-null   object \n",
      " 4   Dependents        7043 non-null   object \n",
      " 5   tenure            7043 non-null   int64  \n",
      " 6   PhoneService      7043 non-null   object \n",
      " 7   MultipleLines     7043 non-null   object \n",
      " 8   InternetService   7043 non-null   object \n",
      " 9   OnlineSecurity    7043 non-null   object \n",
      " 10  OnlineBackup      7043 non-null   object \n",
      " 11  DeviceProtection  7043 non-null   object \n",
      " 12  TechSupport       7043 non-null   object \n",
      " 13  StreamingTV       7043 non-null   object \n",
      " 14  StreamingMovies   7043 non-null   object \n",
      " 15  Contract          7043 non-null   object \n",
      " 16  PaperlessBilling  7043 non-null   object \n",
      " 17  PaymentMethod     7043 non-null   object \n",
      " 18  MonthlyCharges    7043 non-null   float64\n",
      " 19  TotalCharges      7043 non-null   object \n",
      " 20  Churn             7043 non-null   object \n",
      "dtypes: float64(1), int64(2), object(18)\n",
      "memory usage: 1.1+ MB\n"
     ]
    }
   ],
   "source": [
    "df.info()"
   ]
  },
  {
   "cell_type": "markdown",
   "id": "d945313c",
   "metadata": {},
   "source": [
    "Data type of TotalCharges should be coverted to float64. "
   ]
  },
  {
   "cell_type": "code",
   "execution_count": 203,
   "id": "00641799",
   "metadata": {},
   "outputs": [],
   "source": [
    "# replace blanks with np.nan\n",
    "df['TotalCharges'] = df['TotalCharges'].replace(' ', np.nan)\n",
    "# convert to float64\n",
    "df['TotalCharges'] = df['TotalCharges'].astype('float64')\n"
   ]
  },
  {
   "cell_type": "markdown",
   "id": "a3544084",
   "metadata": {},
   "source": [
    "There is missing value in TotalCharges,  fill missing value, convert the datatype to float, and check the dataset again to make sure there is no missing value."
   ]
  },
  {
   "cell_type": "code",
   "execution_count": 204,
   "id": "fc91655e",
   "metadata": {
    "scrolled": true
   },
   "outputs": [
    {
     "data": {
      "text/plain": [
       "customerID          0\n",
       "gender              0\n",
       "SeniorCitizen       0\n",
       "Partner             0\n",
       "Dependents          0\n",
       "tenure              0\n",
       "PhoneService        0\n",
       "MultipleLines       0\n",
       "InternetService     0\n",
       "OnlineSecurity      0\n",
       "OnlineBackup        0\n",
       "DeviceProtection    0\n",
       "TechSupport         0\n",
       "StreamingTV         0\n",
       "StreamingMovies     0\n",
       "Contract            0\n",
       "PaperlessBilling    0\n",
       "PaymentMethod       0\n",
       "MonthlyCharges      0\n",
       "TotalCharges        0\n",
       "Churn               0\n",
       "dtype: int64"
      ]
     },
     "execution_count": 204,
     "metadata": {},
     "output_type": "execute_result"
    }
   ],
   "source": [
    "df1=df.fillna(0)\n",
    "df1.isnull().sum()"
   ]
  },
  {
   "cell_type": "markdown",
   "id": "bc6147e4",
   "metadata": {},
   "source": [
    "#### Plot contract types."
   ]
  },
  {
   "cell_type": "code",
   "execution_count": 205,
   "id": "b8ae33a5",
   "metadata": {
    "scrolled": false
   },
   "outputs": [
    {
     "data": {
      "image/png": "[encoded data removed]",
      "text/plain": [
       "<Figure size 864x504 with 1 Axes>"
      ]
     },
     "metadata": {
      "needs_background": "light"
     },
     "output_type": "display_data"
    }
   ],
   "source": [
    "contract=df[['customerID','Contract' ]]\n",
    "contract_dis=pd.DataFrame(contract.groupby('Contract')['customerID'].count())\n",
    "contract_dis.rename(columns={'customerID':'No of customers'}, inplace=True)\n",
    "contract_dis.plot(kind='bar', figsize=(12,7), title='Customers by Contract Type',fontsize=15,xlabel='Contract_type',ylabel='Number of Customer', color='lightcoral')\n",
    "plt.show()"
   ]
  },
  {
   "cell_type": "markdown",
   "id": "c620fb2a",
   "metadata": {},
   "source": [
    "Most of customers are in Month to month contract."
   ]
  },
  {
   "cell_type": "markdown",
   "id": "22578551",
   "metadata": {},
   "source": [
    "#### Plot payment method"
   ]
  },
  {
   "cell_type": "code",
   "execution_count": 206,
   "id": "2f1019db",
   "metadata": {},
   "outputs": [
    {
     "data": {
      "image/png": "[encoded data removed]",
      "text/plain": [
       "<Figure size 1152x504 with 1 Axes>"
      ]
     },
     "metadata": {
      "needs_background": "light"
     },
     "output_type": "display_data"
    }
   ],
   "source": [
    "Payment=df[['customerID','PaymentMethod' ]]\n",
    "Payment_dis=pd.DataFrame(Payment.groupby('PaymentMethod')['customerID'].count()).reset_index()\n",
    "\n",
    "Payment_dis.rename(columns={'customerID':'No of customers'}, inplace=True)\n",
    "x=Payment_dis.iloc[:,0]\n",
    "y=Payment_dis.iloc[:,1]\n",
    "plt.figure(figsize=(16,7))\n",
    "plt.title('Cusotmers by Payment type')\n",
    "plt.barh(x,y)\n",
    "  \n",
    "for index, value in enumerate(y):\n",
    "    plt.text(value, index,\n",
    "             str(value))\n",
    "\n",
    "  \n",
    "plt.show()"
   ]
  },
  {
   "cell_type": "markdown",
   "id": "5de880a9",
   "metadata": {},
   "source": [
    "Most of customer pay via Electronic check."
   ]
  },
  {
   "cell_type": "markdown",
   "id": "4579f13b",
   "metadata": {},
   "source": [
    "#### Plot Churn rate"
   ]
  },
  {
   "cell_type": "code",
   "execution_count": 207,
   "id": "9e1e7600",
   "metadata": {
    "scrolled": false
   },
   "outputs": [
    {
     "data": {
      "image/png": "[encoded data removed]",
      "text/plain": [
       "<Figure size 864x576 with 1 Axes>"
      ]
     },
     "metadata": {},
     "output_type": "display_data"
    }
   ],
   "source": [
    "labels = 'Churn', 'Retained'\n",
    "sizes = [df.Churn[df['Churn']==\"No\"].count(), df.Churn[df['Churn']=='Yes'].count()]\n",
    "explode = (0, 0.1)\n",
    "fig1, ax1 = plt.subplots(figsize=(12, 8))\n",
    "ax1.pie(sizes, explode=explode, labels=labels, autopct='%1.1f%%',\n",
    "        shadow=True, startangle=90)\n",
    "ax1.axis('equal')\n",
    "plt.title(\"Customer churned vs retained\", size = 20)\n",
    "plt.show()"
   ]
  },
  {
   "cell_type": "markdown",
   "id": "2e5b5185",
   "metadata": {},
   "source": [
    "Based on above pie chart, the Churn rate is 73.5%."
   ]
  },
  {
   "cell_type": "markdown",
   "id": "c3df0647",
   "metadata": {},
   "source": [
    "#### Plot senior citzen with churn "
   ]
  },
  {
   "cell_type": "code",
   "execution_count": 208,
   "id": "a5304f5b",
   "metadata": {},
   "outputs": [
    {
     "data": {
      "text/html": [
       "<div>\n",
       "<style scoped>\n",
       "    .dataframe tbody tr th:only-of-type {\n",
       "        vertical-align: middle;\n",
       "    }\n",
       "\n",
       "    .dataframe tbody tr th {\n",
       "        vertical-align: top;\n",
       "    }\n",
       "\n",
       "    .dataframe thead th {\n",
       "        text-align: right;\n",
       "    }\n",
       "</style>\n",
       "<table border=\"1\" class=\"dataframe\">\n",
       "  <thead>\n",
       "    <tr style=\"text-align: right;\">\n",
       "      <th>Churn</th>\n",
       "      <th>No</th>\n",
       "      <th>Yes</th>\n",
       "    </tr>\n",
       "    <tr>\n",
       "      <th>SeniorCitizen</th>\n",
       "      <th></th>\n",
       "      <th></th>\n",
       "    </tr>\n",
       "  </thead>\n",
       "  <tbody>\n",
       "    <tr>\n",
       "      <th>0</th>\n",
       "      <td>4508</td>\n",
       "      <td>1393</td>\n",
       "    </tr>\n",
       "    <tr>\n",
       "      <th>1</th>\n",
       "      <td>666</td>\n",
       "      <td>476</td>\n",
       "    </tr>\n",
       "  </tbody>\n",
       "</table>\n",
       "</div>"
      ],
      "text/plain": [
       "Churn            No   Yes\n",
       "SeniorCitizen            \n",
       "0              4508  1393\n",
       "1               666   476"
      ]
     },
     "execution_count": 208,
     "metadata": {},
     "output_type": "execute_result"
    }
   ],
   "source": [
    "crosstable=pd.crosstab(df['SeniorCitizen'],df['Churn'])\n",
    "crosstable"
   ]
  },
  {
   "cell_type": "code",
   "execution_count": 209,
   "id": "c38c21ef",
   "metadata": {
    "scrolled": true
   },
   "outputs": [
    {
     "data": {
      "text/plain": [
       "(<Figure size 720x432 with 3 Axes>,\n",
       " {('No', '0'): (0.0, 0.0, 0.7309752529415962, 0.86838485810088),\n",
       "  ('No', '1'): (0.0,\n",
       "   0.8717071172370926,\n",
       "   0.7309752529415962,\n",
       "   0.12829288276290732),\n",
       "  ('Yes', '0'): (0.7359503773197057,\n",
       "   0.0,\n",
       "   0.26404962268029447,\n",
       "   0.7428422113554071),\n",
       "  ('Yes', '1'): (0.7359503773197057,\n",
       "   0.7461644704916196,\n",
       "   0.26404962268029447,\n",
       "   0.25383552950838023)})"
      ]
     },
     "execution_count": 209,
     "metadata": {},
     "output_type": "execute_result"
    },
    {
     "data": {
      "image/png": "[encoded data removed]",
      "text/plain": [
       "<Figure size 720x432 with 3 Axes>"
      ]
     },
     "metadata": {
      "needs_background": "light"
     },
     "output_type": "display_data"
    }
   ],
   "source": [
    "\n",
    "props={}\n",
    "props[('Yes','0')]={'facecolor':'red', 'edgecolor':'white'}\n",
    "props[('No','0')]={'facecolor':'cornflowerblue', 'edgecolor':'white'}\n",
    "props[('Yes','1')]={'facecolor':'red','edgecolor':'white'}\n",
    "props[('No','1')]=        {'facecolor':'cornflowerblue','edgecolor':'white'}\n",
    "labelizer=lambda k:{('Yes','0'):1393,('Yes','1'):476,('No','0'):4508,('No','1'):666}[k]\n",
    "plt.rcParams[\"figure.figsize\"]=(10,6)\n",
    "mosaic(df,['Churn','SeniorCitizen'],labelizer=labelizer,properties=props)"
   ]
  },
  {
   "cell_type": "markdown",
   "id": "cd8ae910",
   "metadata": {},
   "source": [
    "Based on above mosaic chart, majority customers are not senior citizen,  senior citizen customers have higher probabilities than non senior citzen to churn."
   ]
  },
  {
   "cell_type": "code",
   "execution_count": 210,
   "id": "193aa14e",
   "metadata": {
    "scrolled": true
   },
   "outputs": [
    {
     "data": {
      "text/plain": [
       "SeniorCitizen  TechSupport        \n",
       "0              No                     2643\n",
       "               Yes                    1784\n",
       "               No internet service    1474\n",
       "1              No                      830\n",
       "               Yes                     260\n",
       "               No internet service      52\n",
       "dtype: int64"
      ]
     },
     "execution_count": 210,
     "metadata": {},
     "output_type": "execute_result"
    }
   ],
   "source": [
    "df[['SeniorCitizen', 'TechSupport']].value_counts()\n"
   ]
  },
  {
   "cell_type": "markdown",
   "id": "e478bdff",
   "metadata": {},
   "source": [
    "Most of Senior Citizens do not have tech support, this could lead to churn. "
   ]
  },
  {
   "cell_type": "markdown",
   "id": "a485e145",
   "metadata": {},
   "source": [
    "#### Covert catergorical variables with 2 or less unique values  to numerical variables."
   ]
  },
  {
   "cell_type": "code",
   "execution_count": 211,
   "id": "9d44394b",
   "metadata": {},
   "outputs": [
    {
     "name": "stdout",
     "output_type": "stream",
     "text": [
      "6 columns were label encoded.\n"
     ]
    }
   ],
   "source": [
    "le = LabelEncoder()\n",
    "le_count = 0\n",
    "for col in df1.columns[1:]:\n",
    "    if df1[col].dtype == 'object':\n",
    "        if len(list(df1[col].unique())) <= 2:\n",
    "            le.fit(df1[col])\n",
    "            df1[col] = le.transform(df1[col])\n",
    "            le_count += 1\n",
    "print('{} columns were label encoded.'.format(le_count))"
   ]
  },
  {
   "cell_type": "code",
   "execution_count": 212,
   "id": "039ee7a4",
   "metadata": {
    "scrolled": false
   },
   "outputs": [
    {
     "data": {
      "text/html": [
       "<div>\n",
       "<style scoped>\n",
       "    .dataframe tbody tr th:only-of-type {\n",
       "        vertical-align: middle;\n",
       "    }\n",
       "\n",
       "    .dataframe tbody tr th {\n",
       "        vertical-align: top;\n",
       "    }\n",
       "\n",
       "    .dataframe thead th {\n",
       "        text-align: right;\n",
       "    }\n",
       "</style>\n",
       "<table border=\"1\" class=\"dataframe\">\n",
       "  <thead>\n",
       "    <tr style=\"text-align: right;\">\n",
       "      <th></th>\n",
       "      <th>customerID</th>\n",
       "      <th>gender</th>\n",
       "      <th>SeniorCitizen</th>\n",
       "      <th>Partner</th>\n",
       "      <th>Dependents</th>\n",
       "      <th>tenure</th>\n",
       "      <th>PhoneService</th>\n",
       "      <th>MultipleLines</th>\n",
       "      <th>InternetService</th>\n",
       "      <th>OnlineSecurity</th>\n",
       "      <th>...</th>\n",
       "      <th>DeviceProtection</th>\n",
       "      <th>TechSupport</th>\n",
       "      <th>StreamingTV</th>\n",
       "      <th>StreamingMovies</th>\n",
       "      <th>Contract</th>\n",
       "      <th>PaperlessBilling</th>\n",
       "      <th>PaymentMethod</th>\n",
       "      <th>MonthlyCharges</th>\n",
       "      <th>TotalCharges</th>\n",
       "      <th>Churn</th>\n",
       "    </tr>\n",
       "  </thead>\n",
       "  <tbody>\n",
       "    <tr>\n",
       "      <th>0</th>\n",
       "      <td>7590-VHVEG</td>\n",
       "      <td>0</td>\n",
       "      <td>0</td>\n",
       "      <td>1</td>\n",
       "      <td>0</td>\n",
       "      <td>1</td>\n",
       "      <td>0</td>\n",
       "      <td>No phone service</td>\n",
       "      <td>DSL</td>\n",
       "      <td>No</td>\n",
       "      <td>...</td>\n",
       "      <td>No</td>\n",
       "      <td>No</td>\n",
       "      <td>No</td>\n",
       "      <td>No</td>\n",
       "      <td>Month-to-month</td>\n",
       "      <td>1</td>\n",
       "      <td>Electronic check</td>\n",
       "      <td>29.85</td>\n",
       "      <td>29.85</td>\n",
       "      <td>0</td>\n",
       "    </tr>\n",
       "    <tr>\n",
       "      <th>1</th>\n",
       "      <td>5575-GNVDE</td>\n",
       "      <td>1</td>\n",
       "      <td>0</td>\n",
       "      <td>0</td>\n",
       "      <td>0</td>\n",
       "      <td>34</td>\n",
       "      <td>1</td>\n",
       "      <td>No</td>\n",
       "      <td>DSL</td>\n",
       "      <td>Yes</td>\n",
       "      <td>...</td>\n",
       "      <td>Yes</td>\n",
       "      <td>No</td>\n",
       "      <td>No</td>\n",
       "      <td>No</td>\n",
       "      <td>One year</td>\n",
       "      <td>0</td>\n",
       "      <td>Mailed check</td>\n",
       "      <td>56.95</td>\n",
       "      <td>1889.50</td>\n",
       "      <td>0</td>\n",
       "    </tr>\n",
       "    <tr>\n",
       "      <th>2</th>\n",
       "      <td>3668-QPYBK</td>\n",
       "      <td>1</td>\n",
       "      <td>0</td>\n",
       "      <td>0</td>\n",
       "      <td>0</td>\n",
       "      <td>2</td>\n",
       "      <td>1</td>\n",
       "      <td>No</td>\n",
       "      <td>DSL</td>\n",
       "      <td>Yes</td>\n",
       "      <td>...</td>\n",
       "      <td>No</td>\n",
       "      <td>No</td>\n",
       "      <td>No</td>\n",
       "      <td>No</td>\n",
       "      <td>Month-to-month</td>\n",
       "      <td>1</td>\n",
       "      <td>Mailed check</td>\n",
       "      <td>53.85</td>\n",
       "      <td>108.15</td>\n",
       "      <td>1</td>\n",
       "    </tr>\n",
       "    <tr>\n",
       "      <th>3</th>\n",
       "      <td>7795-CFOCW</td>\n",
       "      <td>1</td>\n",
       "      <td>0</td>\n",
       "      <td>0</td>\n",
       "      <td>0</td>\n",
       "      <td>45</td>\n",
       "      <td>0</td>\n",
       "      <td>No phone service</td>\n",
       "      <td>DSL</td>\n",
       "      <td>Yes</td>\n",
       "      <td>...</td>\n",
       "      <td>Yes</td>\n",
       "      <td>Yes</td>\n",
       "      <td>No</td>\n",
       "      <td>No</td>\n",
       "      <td>One year</td>\n",
       "      <td>0</td>\n",
       "      <td>Bank transfer (automatic)</td>\n",
       "      <td>42.30</td>\n",
       "      <td>1840.75</td>\n",
       "      <td>0</td>\n",
       "    </tr>\n",
       "    <tr>\n",
       "      <th>4</th>\n",
       "      <td>9237-HQITU</td>\n",
       "      <td>0</td>\n",
       "      <td>0</td>\n",
       "      <td>0</td>\n",
       "      <td>0</td>\n",
       "      <td>2</td>\n",
       "      <td>1</td>\n",
       "      <td>No</td>\n",
       "      <td>Fiber optic</td>\n",
       "      <td>No</td>\n",
       "      <td>...</td>\n",
       "      <td>No</td>\n",
       "      <td>No</td>\n",
       "      <td>No</td>\n",
       "      <td>No</td>\n",
       "      <td>Month-to-month</td>\n",
       "      <td>1</td>\n",
       "      <td>Electronic check</td>\n",
       "      <td>70.70</td>\n",
       "      <td>151.65</td>\n",
       "      <td>1</td>\n",
       "    </tr>\n",
       "  </tbody>\n",
       "</table>\n",
       "<p>5 rows × 21 columns</p>\n",
       "</div>"
      ],
      "text/plain": [
       "   customerID  gender  SeniorCitizen  Partner  Dependents  tenure  \\\n",
       "0  7590-VHVEG       0              0        1           0       1   \n",
       "1  5575-GNVDE       1              0        0           0      34   \n",
       "2  3668-QPYBK       1              0        0           0       2   \n",
       "3  7795-CFOCW       1              0        0           0      45   \n",
       "4  9237-HQITU       0              0        0           0       2   \n",
       "\n",
       "   PhoneService     MultipleLines InternetService OnlineSecurity  ...  \\\n",
       "0             0  No phone service             DSL             No  ...   \n",
       "1             1                No             DSL            Yes  ...   \n",
       "2             1                No             DSL            Yes  ...   \n",
       "3             0  No phone service             DSL            Yes  ...   \n",
       "4             1                No     Fiber optic             No  ...   \n",
       "\n",
       "  DeviceProtection TechSupport StreamingTV StreamingMovies        Contract  \\\n",
       "0               No          No          No              No  Month-to-month   \n",
       "1              Yes          No          No              No        One year   \n",
       "2               No          No          No              No  Month-to-month   \n",
       "3              Yes         Yes          No              No        One year   \n",
       "4               No          No          No              No  Month-to-month   \n",
       "\n",
       "  PaperlessBilling              PaymentMethod MonthlyCharges  TotalCharges  \\\n",
       "0                1           Electronic check          29.85         29.85   \n",
       "1                0               Mailed check          56.95       1889.50   \n",
       "2                1               Mailed check          53.85        108.15   \n",
       "3                0  Bank transfer (automatic)          42.30       1840.75   \n",
       "4                1           Electronic check          70.70        151.65   \n",
       "\n",
       "   Churn  \n",
       "0      0  \n",
       "1      0  \n",
       "2      1  \n",
       "3      0  \n",
       "4      1  \n",
       "\n",
       "[5 rows x 21 columns]"
      ]
     },
     "execution_count": 212,
     "metadata": {},
     "output_type": "execute_result"
    }
   ],
   "source": [
    "df1.head()"
   ]
  },
  {
   "cell_type": "markdown",
   "id": "77d2a6a9",
   "metadata": {},
   "source": [
    "#### Plot features corrletions with Churn"
   ]
  },
  {
   "cell_type": "code",
   "execution_count": 213,
   "id": "4c9006d7",
   "metadata": {
    "scrolled": true
   },
   "outputs": [
    {
     "data": {
      "text/plain": [
       "Text(0.5, 1.0, 'Correlation Heatmap')"
      ]
     },
     "execution_count": 213,
     "metadata": {},
     "output_type": "execute_result"
    },
    {
     "data": {
      "image/png": "[encoded data removed]",
      "text/plain": [
       "<Figure size 1080x576 with 2 Axes>"
      ]
     },
     "metadata": {
      "needs_background": "light"
     },
     "output_type": "display_data"
    }
   ],
   "source": [
    "plt.figure(figsize=(15, 8))\n",
    "heatmap = sns.heatmap(df1.corr(), vmin=-1, vmax=1, annot=True)\n",
    "heatmap.set_title('Correlation Heatmap', fontdict={'fontsize':12}, pad=12)"
   ]
  },
  {
   "cell_type": "code",
   "execution_count": 214,
   "id": "bf4a6efb",
   "metadata": {},
   "outputs": [
    {
     "data": {
      "text/plain": [
       "Text(0.5, 1.0, 'Correlation with Churn Rate \\n')"
      ]
     },
     "execution_count": 214,
     "metadata": {},
     "output_type": "execute_result"
    },
    {
     "data": {
      "image/png": "[encoded data removed]",
      "text/plain": [
       "<Figure size 1080x720 with 1 Axes>"
      ]
     },
     "metadata": {
      "needs_background": "light"
     },
     "output_type": "display_data"
    }
   ],
   "source": [
    "data=df1.iloc[:,1:].drop(\"Churn\",axis=1)\n",
    "corr = data.corrwith(df1.Churn)\n",
    "corr = corr[corr!=1]\n",
    "corr.plot.bar(\n",
    "        figsize = (15, 10), \n",
    "        fontsize = 15, \n",
    "        color = 'blue',\n",
    "        rot = 45, grid = True)\n",
    "plt.title('Correlation with Churn Rate \\n',\n",
    "horizontalalignment=\"center\", fontstyle = \"normal\", \n",
    "fontsize = \"22\", fontfamily = \"sans-serif\")"
   ]
  },
  {
   "cell_type": "markdown",
   "id": "9de02145",
   "metadata": {},
   "source": [
    "Based on above heatmap and bar chart, A strong positive correlation with the churn is Monthly Charges, Paperlessbilling, SeniorCitizen whilst negative correlation is with Tenure, Partner, and Dependents."
   ]
  },
  {
   "cell_type": "markdown",
   "id": "ec4810e7",
   "metadata": {},
   "source": [
    "#### Plot tenure, MonthlyCharges,TotalCharges with churn"
   ]
  },
  {
   "cell_type": "code",
   "execution_count": 215,
   "id": "526bbe95",
   "metadata": {},
   "outputs": [],
   "source": [
    "def distribution1(df1_select):\n",
    "    s=sns.FacetGrid(df1, hue='Churn', aspect=2.8, palette={1:'blue',0:'pink'})\n",
    "    s.map(sns.kdeplot, df1_select, shade = True, alpha=0.5)\n",
    "    s.set(xlim=(0, df1[df1_select].max() ))\n",
    "    s.add_legend()\n",
    "    s.set_axis_labels(df1_select, 'proportion')\n",
    "    s.fig.suptitle(df1_select)\n",
    "    plt.show()"
   ]
  },
  {
   "cell_type": "code",
   "execution_count": 216,
   "id": "77c47c5c",
   "metadata": {
    "scrolled": true
   },
   "outputs": [
    {
     "data": {
      "image/png": "[encoded data removed]",
      "text/plain": [
       "<Figure size 650.525x216 with 1 Axes>"
      ]
     },
     "metadata": {
      "needs_background": "light"
     },
     "output_type": "display_data"
    },
    {
     "data": {
      "image/png": "[encoded data removed]",
      "text/plain": [
       "<Figure size 650.525x216 with 1 Axes>"
      ]
     },
     "metadata": {
      "needs_background": "light"
     },
     "output_type": "display_data"
    },
    {
     "data": {
      "image/png": "[encoded data removed]",
      "text/plain": [
       "<Figure size 650.525x216 with 1 Axes>"
      ]
     },
     "metadata": {
      "needs_background": "light"
     },
     "output_type": "display_data"
    }
   ],
   "source": [
    "distribution1('tenure')\n",
    "distribution1('MonthlyCharges')\n",
    "distribution1('TotalCharges')"
   ]
  },
  {
   "cell_type": "markdown",
   "id": "80023dfb",
   "metadata": {},
   "source": [
    "The above plots show short tenure has a high probability to churn, in other words, customers with a prepaid or a month-to-month contract have a very high chance to churn compared to customers on 1 or 2 years contracts. High monthly charges cause churn too. When Total charges are low, the churn rate turns high, which reflects the high churn rate in the free trial period or month-to-month contract."
   ]
  },
  {
   "cell_type": "markdown",
   "id": "2b2b9c7e",
   "metadata": {},
   "source": [
    "#### Plot PaymentMethod, Contract with Churn"
   ]
  },
  {
   "cell_type": "code",
   "execution_count": 217,
   "id": "ac31cdce",
   "metadata": {
    "scrolled": true
   },
   "outputs": [],
   "source": [
    "def distribution2(feature):\n",
    "\n",
    "    sns.set_context('paper')\n",
    "    plt.rcParams[\"figure.figsize\"]=(10,6)\n",
    "    sns.countplot(x = feature, hue='Churn',data = df1,\n",
    "              palette = \"rocket_r\")\n",
    "\n",
    "    plt.title(feature)\n",
    "\n",
    "    plt.show()"
   ]
  },
  {
   "cell_type": "code",
   "execution_count": 218,
   "id": "325ab9b3",
   "metadata": {
    "scrolled": true
   },
   "outputs": [
    {
     "data": {
      "image/png": "[encoded data removed]",
      "text/plain": [
       "<Figure size 720x432 with 1 Axes>"
      ]
     },
     "metadata": {
      "needs_background": "light"
     },
     "output_type": "display_data"
    },
    {
     "data": {
      "image/png": "[encoded data removed]",
      "text/plain": [
       "<Figure size 720x432 with 1 Axes>"
      ]
     },
     "metadata": {
      "needs_background": "light"
     },
     "output_type": "display_data"
    }
   ],
   "source": [
    "distribution2('PaymentMethod')\n",
    "distribution2('Contract')\n"
   ]
  },
  {
   "cell_type": "markdown",
   "id": "9db0972f",
   "metadata": {},
   "source": [
    "Based on above plot, Customers using Electornic check has high chance to churn. Customers with Month-to-month contract are high likely to churn."
   ]
  },
  {
   "cell_type": "markdown",
   "id": "632bce66",
   "metadata": {},
   "source": [
    "Dummy covert catergoical variables to numberical variables"
   ]
  },
  {
   "cell_type": "code",
   "execution_count": 219,
   "id": "0fd3847b",
   "metadata": {
    "scrolled": false
   },
   "outputs": [
    {
     "data": {
      "text/html": [
       "<div>\n",
       "<style scoped>\n",
       "    .dataframe tbody tr th:only-of-type {\n",
       "        vertical-align: middle;\n",
       "    }\n",
       "\n",
       "    .dataframe tbody tr th {\n",
       "        vertical-align: top;\n",
       "    }\n",
       "\n",
       "    .dataframe thead th {\n",
       "        text-align: right;\n",
       "    }\n",
       "</style>\n",
       "<table border=\"1\" class=\"dataframe\">\n",
       "  <thead>\n",
       "    <tr style=\"text-align: right;\">\n",
       "      <th></th>\n",
       "      <th>MultipleLines_No</th>\n",
       "      <th>MultipleLines_No phone service</th>\n",
       "      <th>MultipleLines_Yes</th>\n",
       "      <th>InternetService_DSL</th>\n",
       "      <th>InternetService_Fiber optic</th>\n",
       "      <th>InternetService_No</th>\n",
       "      <th>OnlineSecurity_No</th>\n",
       "      <th>OnlineSecurity_No internet service</th>\n",
       "      <th>OnlineSecurity_Yes</th>\n",
       "      <th>OnlineBackup_No</th>\n",
       "      <th>...</th>\n",
       "      <th>gender</th>\n",
       "      <th>SeniorCitizen</th>\n",
       "      <th>Partner</th>\n",
       "      <th>Dependents</th>\n",
       "      <th>tenure</th>\n",
       "      <th>PhoneService</th>\n",
       "      <th>PaperlessBilling</th>\n",
       "      <th>MonthlyCharges</th>\n",
       "      <th>TotalCharges</th>\n",
       "      <th>Churn</th>\n",
       "    </tr>\n",
       "  </thead>\n",
       "  <tbody>\n",
       "    <tr>\n",
       "      <th>0</th>\n",
       "      <td>0</td>\n",
       "      <td>1</td>\n",
       "      <td>0</td>\n",
       "      <td>1</td>\n",
       "      <td>0</td>\n",
       "      <td>0</td>\n",
       "      <td>1</td>\n",
       "      <td>0</td>\n",
       "      <td>0</td>\n",
       "      <td>0</td>\n",
       "      <td>...</td>\n",
       "      <td>0</td>\n",
       "      <td>0</td>\n",
       "      <td>1</td>\n",
       "      <td>0</td>\n",
       "      <td>1</td>\n",
       "      <td>0</td>\n",
       "      <td>1</td>\n",
       "      <td>29.85</td>\n",
       "      <td>29.85</td>\n",
       "      <td>0</td>\n",
       "    </tr>\n",
       "    <tr>\n",
       "      <th>1</th>\n",
       "      <td>1</td>\n",
       "      <td>0</td>\n",
       "      <td>0</td>\n",
       "      <td>1</td>\n",
       "      <td>0</td>\n",
       "      <td>0</td>\n",
       "      <td>0</td>\n",
       "      <td>0</td>\n",
       "      <td>1</td>\n",
       "      <td>1</td>\n",
       "      <td>...</td>\n",
       "      <td>1</td>\n",
       "      <td>0</td>\n",
       "      <td>0</td>\n",
       "      <td>0</td>\n",
       "      <td>34</td>\n",
       "      <td>1</td>\n",
       "      <td>0</td>\n",
       "      <td>56.95</td>\n",
       "      <td>1889.50</td>\n",
       "      <td>0</td>\n",
       "    </tr>\n",
       "    <tr>\n",
       "      <th>2</th>\n",
       "      <td>1</td>\n",
       "      <td>0</td>\n",
       "      <td>0</td>\n",
       "      <td>1</td>\n",
       "      <td>0</td>\n",
       "      <td>0</td>\n",
       "      <td>0</td>\n",
       "      <td>0</td>\n",
       "      <td>1</td>\n",
       "      <td>0</td>\n",
       "      <td>...</td>\n",
       "      <td>1</td>\n",
       "      <td>0</td>\n",
       "      <td>0</td>\n",
       "      <td>0</td>\n",
       "      <td>2</td>\n",
       "      <td>1</td>\n",
       "      <td>1</td>\n",
       "      <td>53.85</td>\n",
       "      <td>108.15</td>\n",
       "      <td>1</td>\n",
       "    </tr>\n",
       "    <tr>\n",
       "      <th>3</th>\n",
       "      <td>0</td>\n",
       "      <td>1</td>\n",
       "      <td>0</td>\n",
       "      <td>1</td>\n",
       "      <td>0</td>\n",
       "      <td>0</td>\n",
       "      <td>0</td>\n",
       "      <td>0</td>\n",
       "      <td>1</td>\n",
       "      <td>1</td>\n",
       "      <td>...</td>\n",
       "      <td>1</td>\n",
       "      <td>0</td>\n",
       "      <td>0</td>\n",
       "      <td>0</td>\n",
       "      <td>45</td>\n",
       "      <td>0</td>\n",
       "      <td>0</td>\n",
       "      <td>42.30</td>\n",
       "      <td>1840.75</td>\n",
       "      <td>0</td>\n",
       "    </tr>\n",
       "    <tr>\n",
       "      <th>4</th>\n",
       "      <td>1</td>\n",
       "      <td>0</td>\n",
       "      <td>0</td>\n",
       "      <td>0</td>\n",
       "      <td>1</td>\n",
       "      <td>0</td>\n",
       "      <td>1</td>\n",
       "      <td>0</td>\n",
       "      <td>0</td>\n",
       "      <td>1</td>\n",
       "      <td>...</td>\n",
       "      <td>0</td>\n",
       "      <td>0</td>\n",
       "      <td>0</td>\n",
       "      <td>0</td>\n",
       "      <td>2</td>\n",
       "      <td>1</td>\n",
       "      <td>1</td>\n",
       "      <td>70.70</td>\n",
       "      <td>151.65</td>\n",
       "      <td>1</td>\n",
       "    </tr>\n",
       "  </tbody>\n",
       "</table>\n",
       "<p>5 rows × 41 columns</p>\n",
       "</div>"
      ],
      "text/plain": [
       "   MultipleLines_No  MultipleLines_No phone service  MultipleLines_Yes  \\\n",
       "0                 0                               1                  0   \n",
       "1                 1                               0                  0   \n",
       "2                 1                               0                  0   \n",
       "3                 0                               1                  0   \n",
       "4                 1                               0                  0   \n",
       "\n",
       "   InternetService_DSL  InternetService_Fiber optic  InternetService_No  \\\n",
       "0                    1                            0                   0   \n",
       "1                    1                            0                   0   \n",
       "2                    1                            0                   0   \n",
       "3                    1                            0                   0   \n",
       "4                    0                            1                   0   \n",
       "\n",
       "   OnlineSecurity_No  OnlineSecurity_No internet service  OnlineSecurity_Yes  \\\n",
       "0                  1                                   0                   0   \n",
       "1                  0                                   0                   1   \n",
       "2                  0                                   0                   1   \n",
       "3                  0                                   0                   1   \n",
       "4                  1                                   0                   0   \n",
       "\n",
       "   OnlineBackup_No  ...  gender  SeniorCitizen  Partner  Dependents  tenure  \\\n",
       "0                0  ...       0              0        1           0       1   \n",
       "1                1  ...       1              0        0           0      34   \n",
       "2                0  ...       1              0        0           0       2   \n",
       "3                1  ...       1              0        0           0      45   \n",
       "4                1  ...       0              0        0           0       2   \n",
       "\n",
       "   PhoneService  PaperlessBilling  MonthlyCharges  TotalCharges  Churn  \n",
       "0             0                 1           29.85         29.85      0  \n",
       "1             1                 0           56.95       1889.50      0  \n",
       "2             1                 1           53.85        108.15      1  \n",
       "3             0                 0           42.30       1840.75      0  \n",
       "4             1                 1           70.70        151.65      1  \n",
       "\n",
       "[5 rows x 41 columns]"
      ]
     },
     "execution_count": 219,
     "metadata": {},
     "output_type": "execute_result"
    }
   ],
   "source": [
    "\n",
    "data_index = np.where(df1.dtypes == object)\n",
    "object_data = df1[df1.columns[data_index]].drop(\"customerID\", axis=1)\n",
    "#object_data = df1[df1.columns[data_index]]\n",
    "new_data = pd.get_dummies(object_data)\n",
    "data_index1=np.where(df1.dtypes!=object)\n",
    "data=df1[df1.columns[data_index1]]\n",
    "new_df = pd.concat([new_data,data], axis = 1)\n",
    "new_df.head()"
   ]
  },
  {
   "cell_type": "markdown",
   "id": "6dfdc183",
   "metadata": {},
   "source": [
    "### Normalization Data"
   ]
  },
  {
   "cell_type": "code",
   "execution_count": 220,
   "id": "fd15b093",
   "metadata": {},
   "outputs": [],
   "source": [
    "def normalization(data):\n",
    "    return (data - np.min(data)) / (np.max(data) - np.min(data))"
   ]
  },
  {
   "cell_type": "code",
   "execution_count": 221,
   "id": "ce851589",
   "metadata": {
    "scrolled": true
   },
   "outputs": [
    {
     "data": {
      "text/plain": [
       "(7043, 41)"
      ]
     },
     "execution_count": 221,
     "metadata": {},
     "output_type": "execute_result"
    }
   ],
   "source": [
    "Norm_new_data = normalization(new_df)\n",
    "Norm_new_data.shape"
   ]
  },
  {
   "cell_type": "markdown",
   "id": "62c3dcab",
   "metadata": {},
   "source": [
    "# <span id=\"M\">Modeling:</span>"
   ]
  },
  {
   "cell_type": "code",
   "execution_count": 222,
   "id": "cdfee3fe",
   "metadata": {
    "scrolled": false
   },
   "outputs": [],
   "source": [
    "data=pd.concat([df1.customerID,Norm_new_data], axis = 1)\n",
    "x=data.drop('Churn', axis=1)\n",
    "y=data.iloc[:,-1]\n"
   ]
  },
  {
   "cell_type": "markdown",
   "id": "bc30af8f",
   "metadata": {},
   "source": [
    "### Split dataset"
   ]
  },
  {
   "cell_type": "code",
   "execution_count": 223,
   "id": "3ee4e690",
   "metadata": {},
   "outputs": [],
   "source": [
    "from sklearn.model_selection import train_test_split\n",
    "x_train, x_test, y_train, y_test = train_test_split(x, y, test_size=0.2, random_state=0)"
   ]
  },
  {
   "cell_type": "code",
   "execution_count": 224,
   "id": "7acd9b40",
   "metadata": {
    "scrolled": true
   },
   "outputs": [],
   "source": [
    "x_test_new=x_test.drop('customerID',axis=1)\n",
    "x_train_new=x_train.drop('customerID',axis=1)\n"
   ]
  },
  {
   "cell_type": "markdown",
   "id": "f87e8f20",
   "metadata": {},
   "source": [
    "### Compare and select model "
   ]
  },
  {
   "cell_type": "markdown",
   "id": "f3f4e54b",
   "metadata": {},
   "source": [
    "The objective to predict a customer Churn or not churn, there are several machine learning methods are good for classification problem. I will compare LogisticRegression, Naive Bayes, support vector machines, KNN and random forests."
   ]
  },
  {
   "cell_type": "code",
   "execution_count": 225,
   "id": "a3b7584a",
   "metadata": {
    "scrolled": true
   },
   "outputs": [
    {
     "name": "stdout",
     "output_type": "stream",
     "text": [
      "               Model  Accuracy  Precision  Recall  F1_score\n",
      "4                SVM      0.80       0.65    0.52      0.80\n",
      "0       RandomForest      0.78       0.59    0.46      0.77\n",
      "2                KNN      0.75       0.52    0.49      0.75\n",
      "1  LogisticRegresion      0.74       0.50    0.79      0.75\n",
      "3        navie_bayes      0.69       0.45    0.83      0.71\n"
     ]
    }
   ],
   "source": [
    "# logisticRegression\n",
    "log=LogisticRegression(solver='liblinear', random_state = 0,class_weight='balanced')\n",
    "log.fit(x_train_new, y_train)\n",
    "y_pred=log.predict(x_test_new)\n",
    "acc_log=round(accuracy_score(y_test, y_pred),2)\n",
    "pre_log = round(precision_score(y_test, y_pred),2)\n",
    "rec_log = round(recall_score(y_test, y_pred),2)\n",
    "f1_log =round(f1_score(y_test, y_pred, average='weighted'),2)\n",
    "\n",
    "# RandomForest\n",
    "forest=RandomForestClassifier(n_estimators=100, criterion = 'entropy', random_state = 0)\n",
    "forest.fit(x_train_new, y_train)\n",
    "y_pred=forest.predict(x_test_new)\n",
    "acc_forest=round(accuracy_score(y_test, y_pred), 2)\n",
    "pre_forest = round(precision_score(y_test, y_pred),2)\n",
    "rec_forest = round(recall_score(y_test, y_pred),2)\n",
    "f1_forest =round(f1_score(y_test, y_pred, average='weighted'),2)\n",
    "#knn\n",
    "knn=KNeighborsClassifier(n_neighbors = 5, metric = 'minkowski', p = 2)\n",
    "knn.fit(x_train_new, y_train)\n",
    "y_pred=knn.predict(x_test_new)\n",
    "acc_knn=round(accuracy_score(y_test, y_pred),2)\n",
    "pre_knn = round(precision_score(y_test, y_pred),2)\n",
    "rec_knn = round(recall_score(y_test, y_pred),2)\n",
    "f1_knn =round(f1_score(y_test, y_pred, average='weighted'),2)\n",
    "#Navie_Byes\n",
    "Navie_Byes=GaussianNB()\n",
    "Navie_Byes.fit(x_train_new, y_train)\n",
    "y_pred=Navie_Byes.predict(x_test_new)\n",
    "acc_navie=round(accuracy_score(y_test, y_pred),2)\n",
    "pre_navie = round(precision_score(y_test, y_pred),2)\n",
    "rec_navie = round(recall_score(y_test, y_pred),2)\n",
    "f1_navie =round(f1_score(y_test, y_pred, average='weighted'),2)\n",
    "\n",
    "#SVM\n",
    "SVM=SVC(kernel = 'linear', random_state = 0)\n",
    "SVM.fit(x_train_new, y_train)\n",
    "y_pred=SVM.predict(x_test_new)\n",
    "acc_svm=round(accuracy_score(y_test, y_pred),2)\n",
    "pre_svm = round(precision_score(y_test, y_pred),2)\n",
    "rec_svm = round(recall_score(y_test, y_pred),2)\n",
    "f1_svm=round(f1_score(y_test, y_pred, average='weighted'),2)\n",
    "# Models accuracy score sort.\n",
    "models=pd.DataFrame({'Model':['RandomForest', 'LogisticRegresion','KNN','navie_bayes','SVM'],'Accuracy':[acc_forest,acc_log,acc_knn,acc_navie, acc_svm],'Precision':[pre_forest,pre_log, pre_knn,pre_navie,pre_svm],\"Recall\":[rec_forest,rec_log,rec_knn,rec_navie,rec_svm],\"F1_score\":[f1_forest,f1_log,f1_knn,f1_navie,f1_svm]})\n",
    "#models.sort_values(by='Acc_Score', ascending=False)\n",
    "models= models.sort_values([\"Accuracy\",\"Precision\", \n",
    "\"Recall\", \"F1_score\"], ascending = False)\n",
    "print(models)"
   ]
  },
  {
   "cell_type": "markdown",
   "id": "29f0dd8e",
   "metadata": {},
   "source": [
    "recall = TP / (TP + FN)\n",
    "\n",
    "precision = TP / (TP + FP)\n",
    "\n",
    "F1= 2 x precision * recall/precision + recall\n",
    "\n",
    "F1 Score is needed when to seek a balance between Precision and Recall.\n",
    "According to above result, SVM, KNN have better accuracy score, while,LogisticRegression and navie_bayes have  better Recall scores.\n"
   ]
  },
  {
   "cell_type": "code",
   "execution_count": 226,
   "id": "69d4c892",
   "metadata": {
    "scrolled": true
   },
   "outputs": [
    {
     "data": {
      "image/png": "[encoded data removed]",
      "text/plain": [
       "<Figure size 842.4x360 with 1 Axes>"
      ]
     },
     "metadata": {},
     "output_type": "display_data"
    }
   ],
   "source": [
    "sns.set_theme(style=\"whitegrid\")\n",
    "sns.set(rc={'figure.figsize':(11.7,5)})\n",
    "ax = sns.barplot(x=\"Model\", y=\"Accuracy\",data=models)"
   ]
  },
  {
   "cell_type": "markdown",
   "id": "45e7147f",
   "metadata": {},
   "source": [
    "If only based on the accuracy score, SVM and RandomForest are the best two models. According to the above result, SVM and KNN have better accuracy, LogisticRegression, navie_bayes have the better Recall value. As we know, if there is a high cost associated with False Negative, for example, in this case, wrongly predict the customer want to churn to be safe, the consequence is losing more customers. Therefore, Recall shall be the model metric we use to select our best model when predicting customer churn."
   ]
  },
  {
   "cell_type": "code",
   "execution_count": 227,
   "id": "9e0315df",
   "metadata": {
    "scrolled": true
   },
   "outputs": [
    {
     "data": {
      "image/png": "[encoded data removed]",
      "text/plain": [
       "<Figure size 842.4x360 with 1 Axes>"
      ]
     },
     "metadata": {},
     "output_type": "display_data"
    }
   ],
   "source": [
    "from sklearn.metrics import plot_roc_curve\n",
    "\n",
    "classifiers = [log,forest,knn, Navie_Byes, SVM]\n",
    "ax = plt.gca()\n",
    "for i in classifiers:\n",
    "    plot_roc_curve(i, x_test_new, y_test, ax=ax)"
   ]
  },
  {
   "cell_type": "markdown",
   "id": "bb4f795d",
   "metadata": {},
   "source": [
    "Based on above chart, LogisticRegression has the highest AUC score, which means LogisticRegression comparing with other models has  better performance on distinguishing between the positive and negative classes.\n",
    "Therefore, we can say that logistic regression did a better job of classifying the positive class in the dataset."
   ]
  },
  {
   "cell_type": "markdown",
   "id": "b599ff80",
   "metadata": {},
   "source": [
    "#### Plot confusion_matrix of LogisticRegression"
   ]
  },
  {
   "cell_type": "code",
   "execution_count": 228,
   "id": "64f2864a",
   "metadata": {
    "scrolled": false
   },
   "outputs": [
    {
     "data": {
      "image/png": "[encoded data removed]",
      "text/plain": [
       "<Figure size 504x504 with 1 Axes>"
      ]
     },
     "metadata": {},
     "output_type": "display_data"
    }
   ],
   "source": [
    "log=LogisticRegression()\n",
    "log.fit(x_train_new, y_train)\n",
    "y_pred=log.predict(x_test_new)\n",
    "conf_matrix = confusion_matrix(y_test, y_pred)\n",
    "fig, ax = plt.subplots(figsize=(7, 7))\n",
    "ax.matshow(conf_matrix, cmap=plt.cm.tab20, alpha=0.3)\n",
    "for i in range(conf_matrix.shape[0]):\n",
    "    for j in range(conf_matrix.shape[1]):\n",
    "        ax.text(x=j, y=i,s=conf_matrix[i, j], va='center', ha='center', size='xx-large')\n",
    " \n",
    "plt.xlabel('Predictions', fontsize=18)\n",
    "plt.ylabel('Actuals', fontsize=18)\n",
    "plt.title('Confusion Matrix', fontsize=18)\n",
    "plt.show()"
   ]
  },
  {
   "cell_type": "markdown",
   "id": "2b3fd38b",
   "metadata": {},
   "source": [
    "#### Plot confusion_matrix of Navie Byes"
   ]
  },
  {
   "cell_type": "code",
   "execution_count": 229,
   "id": "5f0260b8",
   "metadata": {
    "scrolled": true
   },
   "outputs": [
    {
     "data": {
      "image/png": "[encoded data removed]",
      "text/plain": [
       "<Figure size 504x504 with 1 Axes>"
      ]
     },
     "metadata": {},
     "output_type": "display_data"
    }
   ],
   "source": [
    "Navie_Byes=GaussianNB()\n",
    "Navie_Byes.fit(x_train_new, y_train)\n",
    "y_pred=Navie_Byes.predict(x_test_new)\n",
    "conf_matrix = confusion_matrix(y_test, y_pred)\n",
    "fig, ax = plt.subplots(figsize=(7, 7))\n",
    "ax.matshow(conf_matrix, cmap=plt.cm.Pastel1, alpha=0.3)\n",
    "for i in range(conf_matrix.shape[0]):\n",
    "    for j in range(conf_matrix.shape[1]):\n",
    "        ax.text(x=j, y=i,s=conf_matrix[i, j], va='center', ha='center', size='xx-large')\n",
    " \n",
    "plt.xlabel('Predictions', fontsize=18)\n",
    "plt.ylabel('Actuals', fontsize=18)\n",
    "plt.title('Confusion Matrix', fontsize=18)\n",
    "plt.show()"
   ]
  },
  {
   "cell_type": "markdown",
   "id": "1c5d0eee",
   "metadata": {},
   "source": [
    "According to above confusion matrixs, Navie Byes has better perfromance than Logistic Regressionon on predicting actual churn. Navie Byes True postive is 304, while Logistic Regression only 192. "
   ]
  },
  {
   "cell_type": "markdown",
   "id": "eaeb4b16",
   "metadata": {},
   "source": [
    "# <span id=\"E\">Model Evaluation:</span>"
   ]
  },
  {
   "cell_type": "markdown",
   "id": "db45090c",
   "metadata": {},
   "source": [
    "LogitsticRegression evaluation"
   ]
  },
  {
   "cell_type": "code",
   "execution_count": 230,
   "id": "6a61d752",
   "metadata": {
    "scrolled": true
   },
   "outputs": [
    {
     "name": "stdout",
     "output_type": "stream",
     "text": [
      "Accuracy: Final mean:75.310%, Final standard deviation:(2.164%)\n",
      "Variance of kfold accuracies: 0.0004683394105385166\n"
     ]
    }
   ],
   "source": [
    "kfold = model_selection.KFold(n_splits=10, random_state=None)\n",
    "model = LogisticRegression(solver='liblinear', random_state = 0,class_weight='balanced')\n",
    "results = model_selection.cross_val_score(model, x_train_new, y_train, cv=kfold)\n",
    "print(\"Accuracy: Final mean:%.3f%%, Final standard deviation:(%.3f%%)\" % (results.mean()*100.0, results.std()*100.0))\n",
    "print(\"Variance of kfold accuracies:\",results.var())"
   ]
  },
  {
   "cell_type": "markdown",
   "id": "b777d50a",
   "metadata": {},
   "source": [
    "SVM evaluation"
   ]
  },
  {
   "cell_type": "code",
   "execution_count": 231,
   "id": "cd83e258",
   "metadata": {
    "scrolled": true
   },
   "outputs": [
    {
     "name": "stdout",
     "output_type": "stream",
     "text": [
      "Accuracy: Final mean:79.890%, Final standard deviation:(1.532%)\n",
      "Variance of kfold accuracies: 0.00023481839756669194\n"
     ]
    }
   ],
   "source": [
    "kfold = model_selection.KFold(n_splits=10, random_state=None)\n",
    "model = SVC(kernel = 'linear', random_state = 0)\n",
    "results = model_selection.cross_val_score(model, x_train_new, y_train, cv=kfold)\n",
    "print(\"Accuracy: Final mean:%.3f%%, Final standard deviation:(%.3f%%)\" % (results.mean()*100.0, results.std()*100.0))\n",
    "print(\"Variance of kfold accuracies:\",results.var())"
   ]
  },
  {
   "cell_type": "markdown",
   "id": "c2035347",
   "metadata": {},
   "source": [
    "KNN evaluation\n"
   ]
  },
  {
   "cell_type": "code",
   "execution_count": 232,
   "id": "ad7a94e8",
   "metadata": {
    "scrolled": true
   },
   "outputs": [
    {
     "name": "stdout",
     "output_type": "stream",
     "text": [
      "Accuracy: Final mean:75.488%, Final standard deviation:(2.270%)\n",
      "Variance of kfold accuracies: 0.0005153502838813348\n"
     ]
    }
   ],
   "source": [
    "kfold = model_selection.KFold(n_splits=10, random_state=None)\n",
    "model=KNeighborsClassifier(n_neighbors = 5, metric = 'minkowski', p = 2)\n",
    "results = model_selection.cross_val_score(model, x_train_new, y_train, cv=kfold)\n",
    "print(\"Accuracy: Final mean:%.3f%%, Final standard deviation:(%.3f%%)\" % (results.mean()*100.0, results.std()*100.0))\n",
    "print(\"Variance of kfold accuracies:\",results.var())"
   ]
  },
  {
   "cell_type": "markdown",
   "id": "9082feb9",
   "metadata": {},
   "source": [
    "RandomForest evaluation"
   ]
  },
  {
   "cell_type": "code",
   "execution_count": 233,
   "id": "909617a6",
   "metadata": {
    "scrolled": true
   },
   "outputs": [
    {
     "name": "stdout",
     "output_type": "stream",
     "text": [
      "Accuracy: Final mean:79.339%, Final standard deviation:(1.614%)\n",
      "Variance of kfold accuracies: 0.00026061928262685044\n"
     ]
    }
   ],
   "source": [
    "kfold = model_selection.KFold(n_splits=10, random_state=None)\n",
    "model=RandomForestClassifier(n_estimators=100, criterion = 'entropy', random_state = 0)\n",
    "results = model_selection.cross_val_score(model, x_train_new, y_train, cv=kfold)\n",
    "print(\"Accuracy: Final mean:%.3f%%, Final standard deviation:(%.3f%%)\" % (results.mean()*100.0, results.std()*100.0))\n",
    "print(\"Variance of kfold accuracies:\",results.var())"
   ]
  },
  {
   "cell_type": "markdown",
   "id": "ca3c79be",
   "metadata": {},
   "source": [
    "Navie Byes evaluation"
   ]
  },
  {
   "cell_type": "code",
   "execution_count": 234,
   "id": "6028e9c4",
   "metadata": {},
   "outputs": [
    {
     "name": "stdout",
     "output_type": "stream",
     "text": [
      "Accuracy: Final mean:70.411%, Final standard deviation:(2.246%)\n",
      "Variance of kfold accuracies: 0.0005042452710992035\n"
     ]
    }
   ],
   "source": [
    "kfold = model_selection.KFold(n_splits=10, random_state=None)\n",
    "model=GaussianNB()\n",
    "results = model_selection.cross_val_score(model, x_train_new, y_train, cv=kfold)\n",
    "print(\"Accuracy: Final mean:%.3f%%, Final standard deviation:(%.3f%%)\" % (results.mean()*100.0, results.std()*100.0))\n",
    "print(\"Variance of kfold accuracies:\",results.var())"
   ]
  },
  {
   "cell_type": "markdown",
   "id": "f8497922",
   "metadata": {},
   "source": [
    "After comparison, I decided to sacrifice a little model accuracy and chose the Navie Bayes model for its high Recall score."
   ]
  },
  {
   "cell_type": "markdown",
   "id": "40b9b15f",
   "metadata": {},
   "source": [
    "#  <span id=\"I\">Model Improvement:</span>"
   ]
  },
  {
   "cell_type": "markdown",
   "id": "bbbc1e5f",
   "metadata": {},
   "source": [
    "### Feature Selection"
   ]
  },
  {
   "cell_type": "code",
   "execution_count": 235,
   "id": "1a4c16e8",
   "metadata": {},
   "outputs": [
    {
     "name": "stdout",
     "output_type": "stream",
     "text": [
      "Training set score: 0.7036\n",
      "Test set score: 0.6877\n"
     ]
    }
   ],
   "source": [
    "Navie_Byes=GaussianNB()\n",
    "Navie_Byes.fit(x_train_new, y_train)\n",
    "y_pred=Navie_Byes.predict(x_test_new)\n",
    "print('Training set score: {:.4f}'.format(Navie_Byes.score(x_train_new, y_train)))\n",
    "\n",
    "print('Test set score: {:.4f}'.format(Navie_Byes.score(x_test_new, y_test)))"
   ]
  },
  {
   "cell_type": "markdown",
   "id": "51a944f4",
   "metadata": {},
   "source": [
    "The training-set accuracy score is 0.7036, while the test-set accuracy to be 0.6877. there is a little overfitting. "
   ]
  },
  {
   "cell_type": "code",
   "execution_count": 236,
   "id": "b42cac6f",
   "metadata": {
    "scrolled": true
   },
   "outputs": [],
   "source": [
    "\n",
    "selector = SelectKBest(chi2, k=5)\n",
    "selector.fit(x_train_new, y_train)\n",
    "# Get columns to keep and create new dataframe with those only\n",
    "cols = selector.get_support(indices=True)\n",
    "x_train_f = x_train_new.iloc[:,cols]\n",
    "x_test_f=x_test_new.iloc[:,cols]"
   ]
  },
  {
   "cell_type": "code",
   "execution_count": 237,
   "id": "b001b340",
   "metadata": {
    "scrolled": true
   },
   "outputs": [
    {
     "name": "stdout",
     "output_type": "stream",
     "text": [
      "Training set score: 0.7181\n",
      "Test set score: 0.7083\n"
     ]
    }
   ],
   "source": [
    "Navie_Byes=GaussianNB()\n",
    "Navie_Byes.fit(x_train_f, y_train)\n",
    "y_pred=Navie_Byes.predict(x_test_f)\n",
    "print('Training set score: {:.4f}'.format(Navie_Byes.score(x_train_f, y_train)))\n",
    "\n",
    "print('Test set score: {:.4f}'.format(Navie_Byes.score(x_test_f, y_test)))"
   ]
  },
  {
   "cell_type": "markdown",
   "id": "76ca0771",
   "metadata": {},
   "source": [
    "The training-set accuracy score is 0.7181, while the test-set accuracy to be 0.7083. the overfitting problem improved after features selection."
   ]
  },
  {
   "cell_type": "code",
   "execution_count": 238,
   "id": "d8aa7286",
   "metadata": {
    "scrolled": true
   },
   "outputs": [
    {
     "name": "stdout",
     "output_type": "stream",
     "text": [
      "[[705 336]\n",
      " [ 75 293]] : is the confusion matrix\n",
      "0.7083037615330021 : is the accuracy score\n",
      "0.465818759936407 : is the precision score\n",
      "0.7961956521739131 : is the recall score\n",
      "0.5877632898696088 : is the f1 score\n"
     ]
    }
   ],
   "source": [
    "Navie_Byes=GaussianNB()\n",
    "Navie_Byes.fit(x_train_f, y_train)\n",
    "y_pred=Navie_Byes.predict(x_test_f)\n",
    "print(confusion_matrix(y_test, y_pred), \": is the confusion matrix\")\n",
    "from sklearn.metrics import accuracy_score\n",
    "print(accuracy_score(y_test, y_pred), \": is the accuracy score\")\n",
    "from sklearn.metrics import precision_score\n",
    "print(precision_score(y_test, y_pred), \": is the precision score\")\n",
    "from sklearn.metrics import recall_score\n",
    "print(recall_score(y_test, y_pred), \": is the recall score\")\n",
    "from sklearn.metrics import f1_score\n",
    "print(f1_score(y_test, y_pred), \": is the f1 score\")"
   ]
  },
  {
   "cell_type": "markdown",
   "id": "ef5e6b98",
   "metadata": {},
   "source": [
    "After feature selection, accuracy score rise, the recall score drop."
   ]
  },
  {
   "cell_type": "code",
   "execution_count": 239,
   "id": "95af0603",
   "metadata": {
    "scrolled": false
   },
   "outputs": [
    {
     "name": "stdout",
     "output_type": "stream",
     "text": [
      "Accuracy: Final mean:71.813%, Final standard deviation:(1.911%)\n",
      "Variance of kfold accuracies: 0.00036507948040044016\n"
     ]
    }
   ],
   "source": [
    "kfold = model_selection.KFold(n_splits=10, random_state=None)\n",
    "model=GaussianNB()\n",
    "results = model_selection.cross_val_score(model, x_train_f, y_train, cv=kfold)\n",
    "print(\"Accuracy: Final mean:%.3f%%, Final standard deviation:(%.3f%%)\" % (results.mean()*100.0, results.std()*100.0))\n",
    "print(\"Variance of kfold accuracies:\",results.var())"
   ]
  },
  {
   "cell_type": "markdown",
   "id": "0a4dc3cb",
   "metadata": {},
   "source": [
    "The Navie Bayes model accuracy score improved after features selection."
   ]
  },
  {
   "cell_type": "markdown",
   "id": "6bc3f98f",
   "metadata": {},
   "source": [
    "### Hyper parameter Tuning via Grid Search:"
   ]
  },
  {
   "cell_type": "code",
   "execution_count": 240,
   "id": "2e5d4df0",
   "metadata": {},
   "outputs": [
    {
     "name": "stdout",
     "output_type": "stream",
     "text": [
      "Fitting 10 folds for each of 100 candidates, totalling 1000 fits\n",
      "GaussianNB(var_smoothing=0.0023101297000831605)\n"
     ]
    },
    {
     "data": {
      "text/plain": [
       "GaussianNB(var_smoothing=1.0)"
      ]
     },
     "execution_count": 240,
     "metadata": {},
     "output_type": "execute_result"
    }
   ],
   "source": [
    "param_grid_nb = {'var_smoothing': np.logspace(0,-9, num=100)}\n",
    "\n",
    "nbModel_grid = GridSearchCV(estimator=GaussianNB(), param_grid=param_grid_nb, verbose=1, cv=10, n_jobs=-1)\n",
    "nbModel_grid.fit(x_train_new, y_train)\n",
    "print(nbModel_grid.best_estimator_)\n",
    "GaussianNB(priors=None, var_smoothing=1.0)"
   ]
  },
  {
   "cell_type": "code",
   "execution_count": 242,
   "id": "6e02e149",
   "metadata": {
    "scrolled": true
   },
   "outputs": [
    {
     "name": "stdout",
     "output_type": "stream",
     "text": [
      "[[665 376]\n",
      " [ 64 304]] : is the confusion matrix\n",
      "0.687721788502484 : is the accuracy score\n",
      "0.4470588235294118 : is the precision score\n",
      "0.8260869565217391 : is the recall score\n",
      "0.5801526717557252 : is the f1 score\n"
     ]
    }
   ],
   "source": [
    "y_pred = nbModel_grid.predict(x_test_new)\n",
    "print(confusion_matrix(y_test, y_pred), \": is the confusion matrix\")\n",
    "from sklearn.metrics import accuracy_score\n",
    "print(accuracy_score(y_test, y_pred), \": is the accuracy score\")\n",
    "from sklearn.metrics import precision_score\n",
    "print(precision_score(y_test, y_pred), \": is the precision score\")\n",
    "from sklearn.metrics import recall_score\n",
    "print(recall_score(y_test, y_pred), \": is the recall score\")\n",
    "from sklearn.metrics import f1_score\n",
    "print(f1_score(y_test, y_pred), \": is the f1 score\")"
   ]
  },
  {
   "cell_type": "markdown",
   "id": "f6c62f62",
   "metadata": {},
   "source": [
    "After Hyperparameter tunning by Grid Search, the Navie Bayes model does not improve more."
   ]
  },
  {
   "cell_type": "markdown",
   "id": "a2ba2874",
   "metadata": {},
   "source": [
    "# <span id=\"p\">Predictions:</span>"
   ]
  },
  {
   "cell_type": "code",
   "execution_count": 243,
   "id": "0930053e",
   "metadata": {
    "scrolled": true
   },
   "outputs": [
    {
     "data": {
      "text/html": [
       "<div>\n",
       "<style scoped>\n",
       "    .dataframe tbody tr th:only-of-type {\n",
       "        vertical-align: middle;\n",
       "    }\n",
       "\n",
       "    .dataframe tbody tr th {\n",
       "        vertical-align: top;\n",
       "    }\n",
       "\n",
       "    .dataframe thead th {\n",
       "        text-align: right;\n",
       "    }\n",
       "</style>\n",
       "<table border=\"1\" class=\"dataframe\">\n",
       "  <thead>\n",
       "    <tr style=\"text-align: right;\">\n",
       "      <th></th>\n",
       "      <th>customerID</th>\n",
       "      <th>Churn</th>\n",
       "      <th>predictions</th>\n",
       "      <th>probablity_to_churn</th>\n",
       "    </tr>\n",
       "  </thead>\n",
       "  <tbody>\n",
       "    <tr>\n",
       "      <th>3495</th>\n",
       "      <td>4988-IQIGL</td>\n",
       "      <td>1.0</td>\n",
       "      <td>1.0</td>\n",
       "      <td>1.000000</td>\n",
       "    </tr>\n",
       "    <tr>\n",
       "      <th>6438</th>\n",
       "      <td>3551-HUAZH</td>\n",
       "      <td>1.0</td>\n",
       "      <td>1.0</td>\n",
       "      <td>1.000000</td>\n",
       "    </tr>\n",
       "    <tr>\n",
       "      <th>2453</th>\n",
       "      <td>1197-BVMVG</td>\n",
       "      <td>0.0</td>\n",
       "      <td>1.0</td>\n",
       "      <td>1.000000</td>\n",
       "    </tr>\n",
       "    <tr>\n",
       "      <th>5481</th>\n",
       "      <td>8473-VUVJN</td>\n",
       "      <td>1.0</td>\n",
       "      <td>1.0</td>\n",
       "      <td>1.000000</td>\n",
       "    </tr>\n",
       "    <tr>\n",
       "      <th>5098</th>\n",
       "      <td>8258-GSTJK</td>\n",
       "      <td>1.0</td>\n",
       "      <td>1.0</td>\n",
       "      <td>1.000000</td>\n",
       "    </tr>\n",
       "    <tr>\n",
       "      <th>...</th>\n",
       "      <td>...</td>\n",
       "      <td>...</td>\n",
       "      <td>...</td>\n",
       "      <td>...</td>\n",
       "    </tr>\n",
       "    <tr>\n",
       "      <th>2584</th>\n",
       "      <td>3969-JQABI</td>\n",
       "      <td>0.0</td>\n",
       "      <td>1.0</td>\n",
       "      <td>0.539634</td>\n",
       "    </tr>\n",
       "    <tr>\n",
       "      <th>6470</th>\n",
       "      <td>4544-RXFMG</td>\n",
       "      <td>0.0</td>\n",
       "      <td>1.0</td>\n",
       "      <td>0.522422</td>\n",
       "    </tr>\n",
       "    <tr>\n",
       "      <th>5847</th>\n",
       "      <td>9391-YZEJW</td>\n",
       "      <td>0.0</td>\n",
       "      <td>1.0</td>\n",
       "      <td>0.521854</td>\n",
       "    </tr>\n",
       "    <tr>\n",
       "      <th>982</th>\n",
       "      <td>2483-XSSMZ</td>\n",
       "      <td>0.0</td>\n",
       "      <td>1.0</td>\n",
       "      <td>0.518825</td>\n",
       "    </tr>\n",
       "    <tr>\n",
       "      <th>4120</th>\n",
       "      <td>9138-EFSMO</td>\n",
       "      <td>0.0</td>\n",
       "      <td>1.0</td>\n",
       "      <td>0.518353</td>\n",
       "    </tr>\n",
       "  </tbody>\n",
       "</table>\n",
       "<p>680 rows × 4 columns</p>\n",
       "</div>"
      ],
      "text/plain": [
       "      customerID  Churn  predictions  probablity_to_churn\n",
       "3495  4988-IQIGL    1.0          1.0             1.000000\n",
       "6438  3551-HUAZH    1.0          1.0             1.000000\n",
       "2453  1197-BVMVG    0.0          1.0             1.000000\n",
       "5481  8473-VUVJN    1.0          1.0             1.000000\n",
       "5098  8258-GSTJK    1.0          1.0             1.000000\n",
       "...          ...    ...          ...                  ...\n",
       "2584  3969-JQABI    0.0          1.0             0.539634\n",
       "6470  4544-RXFMG    0.0          1.0             0.522422\n",
       "5847  9391-YZEJW    0.0          1.0             0.521854\n",
       "982   2483-XSSMZ    0.0          1.0             0.518825\n",
       "4120  9138-EFSMO    0.0          1.0             0.518353\n",
       "\n",
       "[680 rows x 4 columns]"
      ]
     },
     "execution_count": 243,
     "metadata": {},
     "output_type": "execute_result"
    }
   ],
   "source": [
    "y_pred = nbModel_grid.predict(x_test_new)\n",
    "y_pred_prob = nbModel_grid.predict_proba(x_test_new)[:,1]\n",
    "actual=pd.Series(y_test)\n",
    "customer=x_test['customerID']\n",
    "prediction = pd.Series(y_pred)\n",
    "action=pd.concat([customer, actual], axis = 1).dropna()\n",
    "action['predictions'] = y_pred\n",
    "action[\"probablity_to_churn\"] = y_pred_prob\n",
    "action = action[['customerID', 'Churn', 'predictions', 'probablity_to_churn']]\n",
    "d=action.loc[action['probablity_to_churn']>0.50].sort_values('probablity_to_churn', ascending=False)\n",
    "d"
   ]
  },
  {
   "cell_type": "markdown",
   "id": "48e6895f",
   "metadata": {},
   "source": [
    "There are 680 customers in test dataset have high chance to churn or some of them have already churned, actions should be taken to reconcile those customers to avoid lossing more customers."
   ]
  },
  {
   "cell_type": "markdown",
   "id": "824a2c29",
   "metadata": {},
   "source": [
    "#  <span id=\"S\">Summary:</span>"
   ]
  },
  {
   "cell_type": "markdown",
   "id": "d86d6095",
   "metadata": {},
   "source": [
    "During the EDA process, I discovered there are some missing data in the TotalCharges column, for that reason TotalCharges type was marked as the object. I filled in the missing value and corrected the data type. As the dataset reflected, the churn rate is high. A strong positive correlation with the churn is Monthly Charges, Paperlessbilling, SeniorCitizen whilst negative correlation is with Tenure, Partner, and Dependents. Most of the customers in the dataset are not senior citizens. The majority of customers are with month-to-month contracts and most of the customers chose electronic checks payment method. Customers with a month-to-month contract have a very high probability to churn, and customers who pay via electronic checks are highly likely to churn.\n",
    "\n",
    "In the model selection process, SVM and RandomForest have the highest accuracy score, however, Logistic Regression and Navie Byes are superior to other models because of the high Recall score. Since the objective is to predict the churn, Recall is a more important metric than model accuracy under this circumstance. Sacrifice a little bit on accuracy score will capture more True positive churn. Eventually, I decided to use Naive Bayes because it has better performance than Logistic Regression on predicting True positive churn.\n",
    "\n",
    "In the model improvement session, I used the feature section to improve the accuracy score and lower the overfitting. I applied the Grid search method to do Hyperparameter tuning, the model performance keeps the same, does not improve further.\n",
    "\n",
    "\n",
    "After applying the model to the dataset, I predicted there are 680 customers in test dataset are at high risk to churn, some of them have already churned."
   ]
  },
  {
   "cell_type": "markdown",
   "id": "22c37ace",
   "metadata": {},
   "source": [
    "#  <span id=\"R\">Recommendation:</span>"
   ]
  },
  {
   "cell_type": "markdown",
   "id": "0600cf3d",
   "metadata": {},
   "source": [
    "Recommendations to prevent churn:\n",
    "1. Minimize the month-to-month contract, try to make customers register in a long-term contract.\n",
    "2. Minimize Electronic check payment method.\n",
    "3. Senior citizen has high chance to churn than the non-senior citizen, providing more tech support to those customers to keep retention.\n",
    "4. Use the model to predict future churn, if the customer with probability to churn is higher than 50%, the company should take action to reconcile those customers with offering a discount or other attractive incentives. \n",
    "5. Most customers churn in month-to-month contracts, improve the service, and provide competitive rates are necessary."
   ]
  },
  {
   "cell_type": "code",
   "execution_count": null,
   "id": "d2f0a5e4",
   "metadata": {},
   "outputs": [],
   "source": []
  }
 ],
 "metadata": {
  "kernelspec": {
   "display_name": "Python 3",
   "language": "python",
   "name": "python3"
  },
  "language_info": {
   "codemirror_mode": {
    "name": "ipython",
    "version": 3
   },
   "file_extension": ".py",
   "mimetype": "text/x-python",
   "name": "python",
   "nbconvert_exporter": "python",
   "pygments_lexer": "ipython3",
   "version": "3.8.8"
  }
 },
 "nbformat": 4,
 "nbformat_minor": 5
}
